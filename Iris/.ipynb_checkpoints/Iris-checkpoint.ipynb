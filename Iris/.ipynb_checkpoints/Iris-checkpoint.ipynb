{
 "cells": [
  {
   "cell_type": "markdown",
   "metadata": {},
   "source": [
    "# Iris\n",
    "## By: Aleix Solanes\n",
    "\n",
    "The Iris dataset was used in Fisher's classic 1936 paper, The Use of Multiple Measurements in Taxonomic Problems.\n",
    "\n",
    "It includes three iris species with 50 samples each as well as some properties about each flower. One flower species is linearly separable from the other two, but the other two are not linearly separable from each other.\n",
    "\n",
    "The columns in this dataset are:\n",
    "\n",
    "- Id\n",
    "- SepalLengthCm\n",
    "- SepalWidthCm\n",
    "- PetalLengthCm\n",
    "- PetalWidthCm\n",
    "- Species"
   ]
  },
  {
   "cell_type": "code",
   "execution_count": 149,
   "metadata": {
    "collapsed": false
   },
   "outputs": [
    {
     "name": "stdout",
     "output_type": "stream",
     "text": [
      "[['1' '5.1' '3.5' '1.4' '0.2' '0']\n",
      " ['2' '4.9' '3.0' '1.4' '0.2' '0']\n",
      " ['3' '4.7' '3.2' '1.3' '0.2' '0']\n",
      " ['4' '4.6' '3.1' '1.5' '0.2' '0']\n",
      " ['5' '5.0' '3.6' '1.4' '0.2' '0']\n",
      " ['6' '5.4' '3.9' '1.7' '0.4' '0']\n",
      " ['7' '4.6' '3.4' '1.4' '0.3' '0']\n",
      " ['8' '5.0' '3.4' '1.5' '0.2' '0']\n",
      " ['9' '4.4' '2.9' '1.4' '0.2' '0']\n",
      " ['10' '4.9' '3.1' '1.5' '0.1' '0']\n",
      " ['11' '5.4' '3.7' '1.5' '0.2' '0']\n",
      " ['12' '4.8' '3.4' '1.6' '0.2' '0']\n",
      " ['13' '4.8' '3.0' '1.4' '0.1' '0']\n",
      " ['14' '4.3' '3.0' '1.1' '0.1' '0']\n",
      " ['15' '5.8' '4.0' '1.2' '0.2' '0']\n",
      " ['16' '5.7' '4.4' '1.5' '0.4' '0']\n",
      " ['17' '5.4' '3.9' '1.3' '0.4' '0']\n",
      " ['18' '5.1' '3.5' '1.4' '0.3' '0']\n",
      " ['19' '5.7' '3.8' '1.7' '0.3' '0']\n",
      " ['20' '5.1' '3.8' '1.5' '0.3' '0']\n",
      " ['21' '5.4' '3.4' '1.7' '0.2' '0']\n",
      " ['22' '5.1' '3.7' '1.5' '0.4' '0']\n",
      " ['23' '4.6' '3.6' '1.0' '0.2' '0']\n",
      " ['24' '5.1' '3.3' '1.7' '0.5' '0']\n",
      " ['25' '4.8' '3.4' '1.9' '0.2' '0']\n",
      " ['26' '5.0' '3.0' '1.6' '0.2' '0']\n",
      " ['27' '5.0' '3.4' '1.6' '0.4' '0']\n",
      " ['28' '5.2' '3.5' '1.5' '0.2' '0']\n",
      " ['29' '5.2' '3.4' '1.4' '0.2' '0']\n",
      " ['30' '4.7' '3.2' '1.6' '0.2' '0']\n",
      " ['31' '4.8' '3.1' '1.6' '0.2' '0']\n",
      " ['32' '5.4' '3.4' '1.5' '0.4' '0']\n",
      " ['33' '5.2' '4.1' '1.5' '0.1' '0']\n",
      " ['34' '5.5' '4.2' '1.4' '0.2' '0']\n",
      " ['35' '4.9' '3.1' '1.5' '0.1' '0']\n",
      " ['36' '5.0' '3.2' '1.2' '0.2' '0']\n",
      " ['37' '5.5' '3.5' '1.3' '0.2' '0']\n",
      " ['38' '4.9' '3.1' '1.5' '0.1' '0']\n",
      " ['39' '4.4' '3.0' '1.3' '0.2' '0']\n",
      " ['40' '5.1' '3.4' '1.5' '0.2' '0']\n",
      " ['41' '5.0' '3.5' '1.3' '0.3' '0']\n",
      " ['42' '4.5' '2.3' '1.3' '0.3' '0']\n",
      " ['43' '4.4' '3.2' '1.3' '0.2' '0']\n",
      " ['44' '5.0' '3.5' '1.6' '0.6' '0']\n",
      " ['45' '5.1' '3.8' '1.9' '0.4' '0']\n",
      " ['46' '4.8' '3.0' '1.4' '0.3' '0']\n",
      " ['47' '5.1' '3.8' '1.6' '0.2' '0']\n",
      " ['48' '4.6' '3.2' '1.4' '0.2' '0']\n",
      " ['49' '5.3' '3.7' '1.5' '0.2' '0']\n",
      " ['50' '5.0' '3.3' '1.4' '0.2' '0']\n",
      " ['51' '7.0' '3.2' '4.7' '1.4' '1']\n",
      " ['52' '6.4' '3.2' '4.5' '1.5' '1']\n",
      " ['53' '6.9' '3.1' '4.9' '1.5' '1']\n",
      " ['54' '5.5' '2.3' '4.0' '1.3' '1']\n",
      " ['55' '6.5' '2.8' '4.6' '1.5' '1']\n",
      " ['56' '5.7' '2.8' '4.5' '1.3' '1']\n",
      " ['57' '6.3' '3.3' '4.7' '1.6' '1']\n",
      " ['58' '4.9' '2.4' '3.3' '1.0' '1']\n",
      " ['59' '6.6' '2.9' '4.6' '1.3' '1']\n",
      " ['60' '5.2' '2.7' '3.9' '1.4' '1']\n",
      " ['61' '5.0' '2.0' '3.5' '1.0' '1']\n",
      " ['62' '5.9' '3.0' '4.2' '1.5' '1']\n",
      " ['63' '6.0' '2.2' '4.0' '1.0' '1']\n",
      " ['64' '6.1' '2.9' '4.7' '1.4' '1']\n",
      " ['65' '5.6' '2.9' '3.6' '1.3' '1']\n",
      " ['66' '6.7' '3.1' '4.4' '1.4' '1']\n",
      " ['67' '5.6' '3.0' '4.5' '1.5' '1']\n",
      " ['68' '5.8' '2.7' '4.1' '1.0' '1']\n",
      " ['69' '6.2' '2.2' '4.5' '1.5' '1']\n",
      " ['70' '5.6' '2.5' '3.9' '1.1' '1']\n",
      " ['71' '5.9' '3.2' '4.8' '1.8' '1']\n",
      " ['72' '6.1' '2.8' '4.0' '1.3' '1']\n",
      " ['73' '6.3' '2.5' '4.9' '1.5' '1']\n",
      " ['74' '6.1' '2.8' '4.7' '1.2' '1']\n",
      " ['75' '6.4' '2.9' '4.3' '1.3' '1']\n",
      " ['76' '6.6' '3.0' '4.4' '1.4' '1']\n",
      " ['77' '6.8' '2.8' '4.8' '1.4' '1']\n",
      " ['78' '6.7' '3.0' '5.0' '1.7' '1']\n",
      " ['79' '6.0' '2.9' '4.5' '1.5' '1']\n",
      " ['80' '5.7' '2.6' '3.5' '1.0' '1']\n",
      " ['81' '5.5' '2.4' '3.8' '1.1' '1']\n",
      " ['82' '5.5' '2.4' '3.7' '1.0' '1']\n",
      " ['83' '5.8' '2.7' '3.9' '1.2' '1']\n",
      " ['84' '6.0' '2.7' '5.1' '1.6' '1']\n",
      " ['85' '5.4' '3.0' '4.5' '1.5' '1']\n",
      " ['86' '6.0' '3.4' '4.5' '1.6' '1']\n",
      " ['87' '6.7' '3.1' '4.7' '1.5' '1']\n",
      " ['88' '6.3' '2.3' '4.4' '1.3' '1']\n",
      " ['89' '5.6' '3.0' '4.1' '1.3' '1']\n",
      " ['90' '5.5' '2.5' '4.0' '1.3' '1']\n",
      " ['91' '5.5' '2.6' '4.4' '1.2' '1']\n",
      " ['92' '6.1' '3.0' '4.6' '1.4' '1']\n",
      " ['93' '5.8' '2.6' '4.0' '1.2' '1']\n",
      " ['94' '5.0' '2.3' '3.3' '1.0' '1']\n",
      " ['95' '5.6' '2.7' '4.2' '1.3' '1']\n",
      " ['96' '5.7' '3.0' '4.2' '1.2' '1']\n",
      " ['97' '5.7' '2.9' '4.2' '1.3' '1']\n",
      " ['98' '6.2' '2.9' '4.3' '1.3' '1']\n",
      " ['99' '5.1' '2.5' '3.0' '1.1' '1']\n",
      " ['100' '5.7' '2.8' '4.1' '1.3' '1']\n",
      " ['101' '6.3' '3.3' '6.0' '2.5' '2']\n",
      " ['102' '5.8' '2.7' '5.1' '1.9' '2']\n",
      " ['103' '7.1' '3.0' '5.9' '2.1' '2']\n",
      " ['104' '6.3' '2.9' '5.6' '1.8' '2']\n",
      " ['105' '6.5' '3.0' '5.8' '2.2' '2']\n",
      " ['106' '7.6' '3.0' '6.6' '2.1' '2']\n",
      " ['107' '4.9' '2.5' '4.5' '1.7' '2']\n",
      " ['108' '7.3' '2.9' '6.3' '1.8' '2']\n",
      " ['109' '6.7' '2.5' '5.8' '1.8' '2']\n",
      " ['110' '7.2' '3.6' '6.1' '2.5' '2']\n",
      " ['111' '6.5' '3.2' '5.1' '2.0' '2']\n",
      " ['112' '6.4' '2.7' '5.3' '1.9' '2']\n",
      " ['113' '6.8' '3.0' '5.5' '2.1' '2']\n",
      " ['114' '5.7' '2.5' '5.0' '2.0' '2']\n",
      " ['115' '5.8' '2.8' '5.1' '2.4' '2']\n",
      " ['116' '6.4' '3.2' '5.3' '2.3' '2']\n",
      " ['117' '6.5' '3.0' '5.5' '1.8' '2']\n",
      " ['118' '7.7' '3.8' '6.7' '2.2' '2']\n",
      " ['119' '7.7' '2.6' '6.9' '2.3' '2']\n",
      " ['120' '6.0' '2.2' '5.0' '1.5' '2']\n",
      " ['121' '6.9' '3.2' '5.7' '2.3' '2']\n",
      " ['122' '5.6' '2.8' '4.9' '2.0' '2']\n",
      " ['123' '7.7' '2.8' '6.7' '2.0' '2']\n",
      " ['124' '6.3' '2.7' '4.9' '1.8' '2']\n",
      " ['125' '6.7' '3.3' '5.7' '2.1' '2']\n",
      " ['126' '7.2' '3.2' '6.0' '1.8' '2']\n",
      " ['127' '6.2' '2.8' '4.8' '1.8' '2']\n",
      " ['128' '6.1' '3.0' '4.9' '1.8' '2']\n",
      " ['129' '6.4' '2.8' '5.6' '2.1' '2']\n",
      " ['130' '7.2' '3.0' '5.8' '1.6' '2']\n",
      " ['131' '7.4' '2.8' '6.1' '1.9' '2']\n",
      " ['132' '7.9' '3.8' '6.4' '2.0' '2']\n",
      " ['133' '6.4' '2.8' '5.6' '2.2' '2']\n",
      " ['134' '6.3' '2.8' '5.1' '1.5' '2']\n",
      " ['135' '6.1' '2.6' '5.6' '1.4' '2']\n",
      " ['136' '7.7' '3.0' '6.1' '2.3' '2']\n",
      " ['137' '6.3' '3.4' '5.6' '2.4' '2']\n",
      " ['138' '6.4' '3.1' '5.5' '1.8' '2']\n",
      " ['139' '6.0' '3.0' '4.8' '1.8' '2']\n",
      " ['140' '6.9' '3.1' '5.4' '2.1' '2']\n",
      " ['141' '6.7' '3.1' '5.6' '2.4' '2']\n",
      " ['142' '6.9' '3.1' '5.1' '2.3' '2']\n",
      " ['143' '5.8' '2.7' '5.1' '1.9' '2']\n",
      " ['144' '6.8' '3.2' '5.9' '2.3' '2']\n",
      " ['145' '6.7' '3.3' '5.7' '2.5' '2']\n",
      " ['146' '6.7' '3.0' '5.2' '2.3' '2']\n",
      " ['147' '6.3' '2.5' '5.0' '1.9' '2']\n",
      " ['148' '6.5' '3.0' '5.2' '2.0' '2']\n",
      " ['149' '6.2' '3.4' '5.4' '2.3' '2']\n",
      " ['150' '5.9' '3.0' '5.1' '1.8' '2']]\n"
     ]
    },
    {
     "data": {
      "image/png": "[encoded data removed]",
      "text/plain": [
       "<matplotlib.figure.Figure at 0x82e7710>"
      ]
     },
     "metadata": {},
     "output_type": "display_data"
    }
   ],
   "source": [
    "import numpy as np\n",
    "from matplotlib import pyplot as plt\n",
    "%matplotlib inline\n",
    "\n",
    "dataset = np.genfromtxt(open('Data\\\\Iris.csv','r'),delimiter=',',dtype=None)[1:]\n",
    "colors = ['b', 'r', 'y']\n",
    "data = [x[:4] for x in dataset]\n",
    "data_setosa = [x[:4] for x in dataset if x[5]=='Iris-setosa']\n",
    "data_versicolor = [x[:4] for x in dataset if x[5]=='Iris-versicolor']\n",
    "data_virginica = [x[:4] for x in dataset if x[5]=='Iris-virginica']\n",
    "target = [x[5] for x in dataset]\n",
    "parsed_set=[]\n",
    "for i,x in enumerate(dataset):\n",
    "    val = ''\n",
    "    if dataset[i][5] == 'Iris-setosa':\n",
    "        val = 0\n",
    "    elif dataset[i][5] == 'Iris-versicolor':\n",
    "        val = 1\n",
    "    else:\n",
    "        val = 2\n",
    "    dataset[i][5]=val\n",
    "print dataset\n",
    "# plot the data\n",
    "a=plt.scatter([x[2] for x in data_setosa],[x[1]for x in data_setosa],color=colors[0],label='Setosa')\n",
    "b=plt.scatter([x[2] for x in data_versicolor],[x[1]for x in data_versicolor],color=colors[1],label='Versicolor')\n",
    "c=plt.scatter([x[2] for x in data_virginica],[x[1]for x in data_virginica],color=colors[2],label='Virginica')\n",
    "plt.legend((a,b,c),('Setosa','Versicolor','Virginica'),scatterpoints=1)\n",
    "plt.show()"
   ]
  },
  {
   "cell_type": "code",
   "execution_count": 190,
   "metadata": {
    "collapsed": false
   },
   "outputs": [
    {
     "data": {
      "text/plain": [
       "SVC(C=1.0, cache_size=200, class_weight=None, coef0=0.0,\n",
       "  decision_function_shape=None, degree=3, gamma='auto', kernel='linear',\n",
       "  max_iter=-1, probability=False, random_state=None, shrinking=True,\n",
       "  tol=0.001, verbose=False)"
      ]
     },
     "execution_count": 190,
     "metadata": {},
     "output_type": "execute_result"
    }
   ],
   "source": [
    "# Simple linear SVM for determining two groups\n",
    "from sklearn import svm\n",
    "X = [x[:4] for x in dataset]\n",
    "Y = [x[5] for x in dataset]\n",
    "clf = svm.SVC(kernel='linear') # SVC = Support Vector Classification\n",
    "clf.fit(X,Y)"
   ]
  },
  {
   "cell_type": "code",
   "execution_count": 191,
   "metadata": {
    "collapsed": false
   },
   "outputs": [
    {
     "name": "stdout",
     "output_type": "stream",
     "text": [
      "['0' '0' '0' '0' '0' '0' '0' '0' '0' '0' '0' '0' '0' '0' '0' '0' '0' '0'\n",
      " '0' '0' '0' '0' '0' '0' '0' '0' '0' '0' '0' '0' '0' '0' '0' '0' '0' '0'\n",
      " '0' '0' '0' '0' '0' '0' '0' '0' '0' '0' '0' '0' '0' '0' '1' '1' '1' '1'\n",
      " '1' '1' '1' '1' '1' '1' '1' '1' '1' '1' '1' '1' '1' '1' '1' '1' '1' '1'\n",
      " '1' '1' '1' '1' '1' '1' '1' '1' '1' '1' '1' '1' '1' '1' '1' '1' '1' '1'\n",
      " '1' '1' '1' '1' '1' '1' '1' '1' '1' '1' '2' '2' '2' '2' '2' '2' '2' '2'\n",
      " '2' '2' '2' '2' '2' '2' '2' '2' '2' '2' '2' '2' '2' '2' '2' '2' '2' '2'\n",
      " '2' '2' '2' '2' '2' '2' '2' '2' '2' '2' '2' '2' '2' '2' '2' '2' '2' '2'\n",
      " '2' '2' '2' '2' '2' '2']\n"
     ]
    }
   ],
   "source": [
    "\n",
    "print clf.predict(X)"
   ]
  },
  {
   "cell_type": "code",
   "execution_count": null,
   "metadata": {
    "collapsed": true
   },
   "outputs": [],
   "source": []
  },
  {
   "cell_type": "code",
   "execution_count": null,
   "metadata": {
    "collapsed": true
   },
   "outputs": [],
   "source": []
  }
 ],
 "metadata": {
  "kernelspec": {
   "display_name": "Python 2",
   "language": "python",
   "name": "python2"
  },
  "language_info": {
   "codemirror_mode": {
    "name": "ipython",
    "version": 2
   },
   "file_extension": ".py",
   "mimetype": "text/x-python",
   "name": "python",
   "nbconvert_exporter": "python",
   "pygments_lexer": "ipython2",
   "version": "2.7.11"
  }
 },
 "nbformat": 4,
 "nbformat_minor": 0
}
